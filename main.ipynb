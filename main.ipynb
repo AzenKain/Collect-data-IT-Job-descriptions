{
 "cells": [
  {
   "cell_type": "code",
   "execution_count": 18,
   "metadata": {},
   "outputs": [
    {
     "name": "stdout",
     "output_type": "stream",
     "text": [
      "Collecting webdriver-manager\n",
      "  Downloading webdriver_manager-4.0.2-py2.py3-none-any.whl.metadata (12 kB)\n",
      "Requirement already satisfied: requests in e:\\allapp\\tooldev\\miniconda\\envs\\khdl\\lib\\site-packages (from webdriver-manager) (2.32.3)\n",
      "Collecting python-dotenv (from webdriver-manager)\n",
      "  Downloading python_dotenv-1.0.1-py3-none-any.whl.metadata (23 kB)\n",
      "Requirement already satisfied: packaging in e:\\allapp\\tooldev\\miniconda\\envs\\khdl\\lib\\site-packages (from webdriver-manager) (24.1)\n",
      "Requirement already satisfied: charset-normalizer<4,>=2 in e:\\allapp\\tooldev\\miniconda\\envs\\khdl\\lib\\site-packages (from requests->webdriver-manager) (3.3.2)\n",
      "Requirement already satisfied: idna<4,>=2.5 in e:\\allapp\\tooldev\\miniconda\\envs\\khdl\\lib\\site-packages (from requests->webdriver-manager) (3.7)\n",
      "Requirement already satisfied: urllib3<3,>=1.21.1 in e:\\allapp\\tooldev\\miniconda\\envs\\khdl\\lib\\site-packages (from requests->webdriver-manager) (2.2.2)\n",
      "Requirement already satisfied: certifi>=2017.4.17 in e:\\allapp\\tooldev\\miniconda\\envs\\khdl\\lib\\site-packages (from requests->webdriver-manager) (2024.7.4)\n",
      "Downloading webdriver_manager-4.0.2-py2.py3-none-any.whl (27 kB)\n",
      "Downloading python_dotenv-1.0.1-py3-none-any.whl (19 kB)\n",
      "Installing collected packages: python-dotenv, webdriver-manager\n",
      "Successfully installed python-dotenv-1.0.1 webdriver-manager-4.0.2\n",
      "Note: you may need to restart the kernel to use updated packages.\n"
     ]
    }
   ],
   "source": [
    "!pip install webdriver-manager\n",
    "!pip install selenium\n",
    "!pip install undetected-chromedriver\n",
    "!pip install selenium-stealth"
   ]
  },
  {
   "cell_type": "code",
   "execution_count": 20,
   "metadata": {},
   "outputs": [],
   "source": [
    "from selenium import webdriver\n",
    "from selenium.webdriver.common.keys import Keys\n",
    "from selenium.webdriver.common.by import By\n",
    "from time import sleep\n",
    "from bs4 import BeautifulSoup\n",
    "import pandas as pd\n",
    "import undetected_chromedriver as uc\n",
    "from selenium_stealth import stealth\n",
    "from selenium.webdriver.chrome.service import Service\n",
    "from webdriver_manager.chrome import ChromeDriverManager\n",
    "from selenium.webdriver.common.by import By\n"
   ]
  },
  {
   "cell_type": "code",
   "execution_count": 24,
   "metadata": {},
   "outputs": [
    {
     "name": "stdout",
     "output_type": "stream",
     "text": [
      "{'mô tả': 'Skills: SQL, Java, Python, ReactJS 3 Reasons to join the company:Attractive Benefits and Salary packagesGrowth-focused environmentA fun-loving and passionate community of coworkersJob description:As a Full stack Engineer, you will be responsible for developing and maintaining our platforms. This role offers an exciting opportunity to contribute to the growth and success of projects while continuously learning and adapting to new technologies.❖ Responsibilities:Develop and maintain frontend components using HTML, and ReactJSDesign and implement backend logic and APIs using Java, PythonIntegrate frontend and backend components to create seamless user experiences.Optimize application performance and ensure responsiveness across various devices and browsers.Bring value to our users by delivering new features or improving current ones.Become efficient in our tech stacks.Contribute to reducing our tech debts.Maintain and improve our tests and monitors.Proactively support and pair with other team members.Gives timely, helpful feedback to peers and managers.Provide estimation for the given tasks and transparently report any issues faced to the project lead.Provide inputs for our product, understand and follow our team process.Collaborate with cross-functional teams to understand new project requirements or existing issues and translate them into technical solutions.Share your knowledge, document and support technical discussions', 'yêu cầu': '❖ Requirements:Bachelor’s degree in computer science, Engineering, or a related field.Over 2 experiences as a Full stack Developer or similar role.Proficiency in Java, Python, MySQL, HTML, Vue.js and ReactJS.Know how to build, deploy and maintain a service.Have a good understanding of system architecture and micro-services.Passion for learning and keeping up with new technologies.Improve team processes, alerts, and monitors and challenge the status-quoDemonstrate willingness to learn new techniques or languages as required for project needsSoft skills:Customer service mindsetStrong analytical & problem-solving skills and attention to detail.Analytical thinking and a fast learnerAble to work effectively in a fast-paced environment, under pressure and meet tight deadlinesExcellent interpersonal and communication skillsGood resource planning/management skillsPersonal attributes:Good team player, independent and result-orientedFlexible and open to changesStrong sense of ownership and responsibility for what the team buildKeep your bias in check, and have a strong bias for actionMake friends but are not afraid of speaking your mind', 'quyền lợi': \"❖ Why will you love working here?We have an open-minded, friendly, positive, transparent, and agile environment. We’ve worked hard to build the workplace culture we’ve always dreamed of - one where we celebrate each other's successes, work hard together, and know when it’s time to relax. We know that we can’t reach our goals alone and think that our culture makes it a little easier to come to work and makes our biggest goals achievable. You’ll be using cutting-edge technology and taking on interesting challenges every day with a team that is genuinely happy to have you!Benefit:Attractive salary (upto 3000$)Provide Laptop & Screens for working.Premium health care insurance for you.Free annual health check.Company trip & team dinners.Many team activities: Birthday party, Mid-Autumn Festival, Christmas, Year End party,...\"}\n"
     ]
    }
   ],
   "source": [
    "\n",
    "options = webdriver.ChromeOptions()\n",
    "options.add_argument(\"start-maximized\")\n",
    "options.add_argument(\"--headless\")\n",
    "options.add_argument(\"--window-position=-2400,-2400\") \n",
    "options.add_experimental_option(\"excludeSwitches\", [\"enable-automation\"])\n",
    "options.add_experimental_option('useAutomationExtension', False)\n",
    "\n",
    "s=Service(ChromeDriverManager().install())\n",
    "driver = webdriver.Chrome(service=s, options=options)\n",
    "\n",
    "stealth(driver,\n",
    "        languages=[\"en-US\", \"en\"],\n",
    "        vendor=\"Google Inc.\",\n",
    "        platform=\"Win32\",\n",
    "        webgl_vendor=\"Intel Inc.\",\n",
    "        renderer=\"Intel Iris OpenGL Engine\",\n",
    "        fix_hairline=True,\n",
    ")\n",
    "\n",
    "driver.get(\"https://www.topcv.vn/viec-lam/fullstack-developer-upto-3000-gross/1469995.html?ta_source=ITJobs_LinkDetail\")\n",
    "\n",
    "elem = driver.find_element(By.XPATH, \"//*\")\n",
    "source_code = elem.get_attribute(\"outerHTML\")\n",
    "soup = BeautifulSoup(source_code, 'html.parser')\n",
    "\n",
    "detail = soup.find('div', {\"class\": \"job-description\"})\n",
    "items_detail = detail.find_all('div', {\"class\": \"job-description__item\"})\n",
    "\n",
    "detail_job = {\n",
    "    \"mô tả\" : \"\",\n",
    "    'yêu cầu': \"\",\n",
    "    \"quyền lợi\" : \"\"\n",
    "}\n",
    "for i in items_detail:\n",
    "    tmpTitle = i.find('h3')\n",
    "    tmpContent = i.find('div', {'class': 'job-description__item--content'})\n",
    "    \n",
    "    if tmpTitle and tmpContent:\n",
    "        title_text = tmpTitle.text.strip().lower()  \n",
    "        content_text = tmpContent.text.strip()\n",
    "\n",
    "        if \"mô tả\" in title_text:\n",
    "            detail_job[\"mô tả\"] = content_text\n",
    "        elif \"yêu cầu\" in title_text:\n",
    "            detail_job[\"yêu cầu\"] = content_text\n",
    "        elif \"quyền lợi\" in title_text:\n",
    "            detail_job[\"quyền lợi\"] = content_text\n",
    "\n",
    "# Print the extracted job details\n",
    "print(detail_job)\n",
    "\n",
    "driver.close()\n",
    "\n"
   ]
  }
 ],
 "metadata": {
  "kernelspec": {
   "display_name": "KHDL",
   "language": "python",
   "name": "python3"
  },
  "language_info": {
   "codemirror_mode": {
    "name": "ipython",
    "version": 3
   },
   "file_extension": ".py",
   "mimetype": "text/x-python",
   "name": "python",
   "nbconvert_exporter": "python",
   "pygments_lexer": "ipython3",
   "version": "3.10.14"
  }
 },
 "nbformat": 4,
 "nbformat_minor": 2
}
